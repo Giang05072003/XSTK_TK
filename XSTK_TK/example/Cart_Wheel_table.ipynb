{
 "cells": [
  {
   "cell_type": "markdown",
   "metadata": {},
   "source": [
    "# Frequency table"
   ]
  },
  {
   "cell_type": "code",
   "execution_count": 34,
   "metadata": {},
   "outputs": [],
   "source": [
    "import pandas as pd"
   ]
  },
  {
   "cell_type": "code",
   "execution_count": 35,
   "metadata": {},
   "outputs": [],
   "source": [
    "url = r\"C:\\\\Users\\\\Acer\\\\Code\\\\TLU\\\\XSTK_TK\\\\Du_lieu\\\\\"\n",
    "cart_wheel = pd.read_csv(url + \"Cartwheeldata.csv\")"
   ]
  },
  {
   "cell_type": "code",
   "execution_count": 36,
   "metadata": {
    "scrolled": true
   },
   "outputs": [
    {
     "data": {
      "text/html": [
       "<div>\n",
       "<style scoped>\n",
       "    .dataframe tbody tr th:only-of-type {\n",
       "        vertical-align: middle;\n",
       "    }\n",
       "\n",
       "    .dataframe tbody tr th {\n",
       "        vertical-align: top;\n",
       "    }\n",
       "\n",
       "    .dataframe thead th {\n",
       "        text-align: right;\n",
       "    }\n",
       "</style>\n",
       "<table border=\"1\" class=\"dataframe\">\n",
       "  <thead>\n",
       "    <tr style=\"text-align: right;\">\n",
       "      <th></th>\n",
       "      <th>ID</th>\n",
       "      <th>Age</th>\n",
       "      <th>Gender</th>\n",
       "      <th>GenderGroup</th>\n",
       "      <th>Glasses</th>\n",
       "      <th>GlassesGroup</th>\n",
       "      <th>Height</th>\n",
       "      <th>Wingspan</th>\n",
       "      <th>CWDistance</th>\n",
       "      <th>Complete</th>\n",
       "      <th>CompleteGroup</th>\n",
       "      <th>Score</th>\n",
       "    </tr>\n",
       "  </thead>\n",
       "  <tbody>\n",
       "    <tr>\n",
       "      <th>0</th>\n",
       "      <td>1</td>\n",
       "      <td>56</td>\n",
       "      <td>F</td>\n",
       "      <td>1</td>\n",
       "      <td>Y</td>\n",
       "      <td>1</td>\n",
       "      <td>62.0</td>\n",
       "      <td>61.0</td>\n",
       "      <td>79</td>\n",
       "      <td>Y</td>\n",
       "      <td>1</td>\n",
       "      <td>7</td>\n",
       "    </tr>\n",
       "    <tr>\n",
       "      <th>1</th>\n",
       "      <td>2</td>\n",
       "      <td>26</td>\n",
       "      <td>F</td>\n",
       "      <td>1</td>\n",
       "      <td>Y</td>\n",
       "      <td>1</td>\n",
       "      <td>62.0</td>\n",
       "      <td>60.0</td>\n",
       "      <td>70</td>\n",
       "      <td>Y</td>\n",
       "      <td>1</td>\n",
       "      <td>8</td>\n",
       "    </tr>\n",
       "    <tr>\n",
       "      <th>2</th>\n",
       "      <td>3</td>\n",
       "      <td>33</td>\n",
       "      <td>F</td>\n",
       "      <td>1</td>\n",
       "      <td>Y</td>\n",
       "      <td>1</td>\n",
       "      <td>66.0</td>\n",
       "      <td>64.0</td>\n",
       "      <td>85</td>\n",
       "      <td>Y</td>\n",
       "      <td>1</td>\n",
       "      <td>7</td>\n",
       "    </tr>\n",
       "    <tr>\n",
       "      <th>3</th>\n",
       "      <td>4</td>\n",
       "      <td>39</td>\n",
       "      <td>F</td>\n",
       "      <td>1</td>\n",
       "      <td>N</td>\n",
       "      <td>0</td>\n",
       "      <td>64.0</td>\n",
       "      <td>63.0</td>\n",
       "      <td>87</td>\n",
       "      <td>Y</td>\n",
       "      <td>1</td>\n",
       "      <td>10</td>\n",
       "    </tr>\n",
       "    <tr>\n",
       "      <th>4</th>\n",
       "      <td>5</td>\n",
       "      <td>27</td>\n",
       "      <td>M</td>\n",
       "      <td>2</td>\n",
       "      <td>N</td>\n",
       "      <td>0</td>\n",
       "      <td>73.0</td>\n",
       "      <td>75.0</td>\n",
       "      <td>72</td>\n",
       "      <td>N</td>\n",
       "      <td>0</td>\n",
       "      <td>4</td>\n",
       "    </tr>\n",
       "  </tbody>\n",
       "</table>\n",
       "</div>"
      ],
      "text/plain": [
       "   ID  Age Gender  GenderGroup Glasses  GlassesGroup  Height  Wingspan  \\\n",
       "0   1   56      F            1       Y             1    62.0      61.0   \n",
       "1   2   26      F            1       Y             1    62.0      60.0   \n",
       "2   3   33      F            1       Y             1    66.0      64.0   \n",
       "3   4   39      F            1       N             0    64.0      63.0   \n",
       "4   5   27      M            2       N             0    73.0      75.0   \n",
       "\n",
       "   CWDistance Complete  CompleteGroup  Score  \n",
       "0          79        Y              1      7  \n",
       "1          70        Y              1      8  \n",
       "2          85        Y              1      7  \n",
       "3          87        Y              1     10  \n",
       "4          72        N              0      4  "
      ]
     },
     "execution_count": 36,
     "metadata": {},
     "output_type": "execute_result"
    }
   ],
   "source": [
    "cart_wheel.head() # hien thi mot so quan sat dau"
   ]
  },
  {
   "cell_type": "code",
   "execution_count": 37,
   "metadata": {},
   "outputs": [
    {
     "ename": "TypeError",
     "evalue": "'Index' object is not callable",
     "output_type": "error",
     "traceback": [
      "\u001b[1;31m---------------------------------------------------------------------------\u001b[0m",
      "\u001b[1;31mTypeError\u001b[0m                                 Traceback (most recent call last)",
      "Cell \u001b[1;32mIn[37], line 1\u001b[0m\n\u001b[1;32m----> 1\u001b[0m cart_wheel\u001b[39m.\u001b[39;49mcolumns()\n",
      "\u001b[1;31mTypeError\u001b[0m: 'Index' object is not callable"
     ]
    }
   ],
   "source": [
    "cart_wheel.columns"
   ]
  },
  {
   "cell_type": "code",
   "execution_count": null,
   "metadata": {},
   "outputs": [
    {
     "data": {
      "text/plain": [
       "(25, 12)"
      ]
     },
     "execution_count": 13,
     "metadata": {},
     "output_type": "execute_result"
    }
   ],
   "source": [
    "cart_wheel.shape"
   ]
  },
  {
   "cell_type": "code",
   "execution_count": null,
   "metadata": {},
   "outputs": [
    {
     "data": {
      "text/plain": [
       "0    56\n",
       "1    26\n",
       "2    33\n",
       "3    39\n",
       "4    27\n",
       "5    24\n",
       "Name: Age, dtype: int64"
      ]
     },
     "execution_count": 17,
     "metadata": {},
     "output_type": "execute_result"
    }
   ],
   "source": [
    "cart_wheel.loc[0:5, \"Age\"]"
   ]
  },
  {
   "cell_type": "code",
   "execution_count": null,
   "metadata": {},
   "outputs": [
    {
     "data": {
      "text/plain": [
       "ID                 11\n",
       "Age                30\n",
       "Gender              M\n",
       "GenderGroup         2\n",
       "Glasses             Y\n",
       "GlassesGroup        1\n",
       "Height           69.5\n",
       "Wingspan         66.0\n",
       "CWDistance         96\n",
       "Complete            Y\n",
       "CompleteGroup       1\n",
       "Score               6\n",
       "Name: 10, dtype: object"
      ]
     },
     "execution_count": 19,
     "metadata": {},
     "output_type": "execute_result"
    }
   ],
   "source": [
    "cart_wheel.loc[10,:]"
   ]
  },
  {
   "cell_type": "code",
   "execution_count": null,
   "metadata": {},
   "outputs": [
    {
     "data": {
      "text/plain": [
       "RangeIndex(start=0, stop=25, step=1)"
      ]
     },
     "execution_count": 20,
     "metadata": {},
     "output_type": "execute_result"
    }
   ],
   "source": [
    "cart_wheel.index"
   ]
  },
  {
   "cell_type": "code",
   "execution_count": null,
   "metadata": {},
   "outputs": [
    {
     "data": {
      "text/plain": [
       "0     F\n",
       "1     F\n",
       "2     F\n",
       "3     F\n",
       "4     M\n",
       "5     M\n",
       "6     M\n",
       "7     F\n",
       "8     M\n",
       "9     F\n",
       "10    M\n",
       "11    F\n",
       "12    F\n",
       "13    F\n",
       "14    M\n",
       "15    M\n",
       "16    F\n",
       "17    M\n",
       "18    M\n",
       "19    F\n",
       "20    M\n",
       "21    M\n",
       "22    M\n",
       "23    M\n",
       "24    F\n",
       "Name: Gender, dtype: object"
      ]
     },
     "execution_count": 21,
     "metadata": {},
     "output_type": "execute_result"
    }
   ],
   "source": [
    "cart_wheel.iloc[:,2]"
   ]
  },
  {
   "cell_type": "code",
   "execution_count": null,
   "metadata": {},
   "outputs": [
    {
     "data": {
      "text/plain": [
       "array(['F', 'M'], dtype=object)"
      ]
     },
     "execution_count": 22,
     "metadata": {},
     "output_type": "execute_result"
    }
   ],
   "source": [
    "cart_wheel.Gender.unique()"
   ]
  },
  {
   "cell_type": "code",
   "execution_count": null,
   "metadata": {},
   "outputs": [
    {
     "data": {
      "text/plain": [
       "array([56, 26, 33, 39, 27, 24, 28, 22, 29, 30, 25, 23, 31], dtype=int64)"
      ]
     },
     "execution_count": 23,
     "metadata": {},
     "output_type": "execute_result"
    }
   ],
   "source": [
    "cart_wheel.Age.unique()"
   ]
  },
  {
   "cell_type": "markdown",
   "metadata": {},
   "source": [
    "# Lập bảng tần số cho một biến\n",
    "- biến định tính\n",
    "- biến định lượng: khi số quan sát lớn ta tiến hành phân tổ dữ liệu (phân nhóm)"
   ]
  },
  {
   "cell_type": "code",
   "execution_count": null,
   "metadata": {
    "scrolled": true
   },
   "outputs": [
    {
     "data": {
      "text/plain": [
       "ID                                     325\n",
       "Age                                    706\n",
       "Gender           FFFFMMMFMFMFFFMMFMMFMMMMF\n",
       "GenderGroup                             38\n",
       "Glasses          YYYNNNNNYYYYYNYYNNYYYNNNY\n",
       "GlassesGroup                            14\n",
       "Height                             1691.25\n",
       "Wingspan                            1656.5\n",
       "CWDistance                            2062\n",
       "Complete         YYYYNNYYNYYYYYYYNYYYNYYYN\n",
       "CompleteGroup                           19\n",
       "Score                                  160\n",
       "dtype: object"
      ]
     },
     "execution_count": 24,
     "metadata": {},
     "output_type": "execute_result"
    }
   ],
   "source": [
    "cart_wheel.sum()"
   ]
  },
  {
   "cell_type": "code",
   "execution_count": null,
   "metadata": {},
   "outputs": [
    {
     "data": {
      "text/plain": [
       "25"
      ]
     },
     "execution_count": 25,
     "metadata": {},
     "output_type": "execute_result"
    }
   ],
   "source": [
    "cart_wheel.Gender.count()"
   ]
  },
  {
   "cell_type": "markdown",
   "metadata": {},
   "source": [
    "1. lập bảng tần số cho cột giới tính"
   ]
  },
  {
   "cell_type": "code",
   "execution_count": null,
   "metadata": {
    "scrolled": true
   },
   "outputs": [
    {
     "data": {
      "text/plain": [
       "M    13\n",
       "F    12\n",
       "Name: Gender, dtype: int64"
      ]
     },
     "execution_count": 26,
     "metadata": {},
     "output_type": "execute_result"
    }
   ],
   "source": [
    "tan_so = cart_wheel.Gender.value_counts()\n",
    "tan_so"
   ]
  },
  {
   "cell_type": "code",
   "execution_count": null,
   "metadata": {},
   "outputs": [
    {
     "data": {
      "text/plain": [
       "M    0.52\n",
       "F    0.48\n",
       "Name: Gender, dtype: float64"
      ]
     },
     "execution_count": 27,
     "metadata": {},
     "output_type": "execute_result"
    }
   ],
   "source": [
    "tan_suat = tan_so/tan_so.sum()\n",
    "tan_suat"
   ]
  },
  {
   "cell_type": "code",
   "execution_count": null,
   "metadata": {},
   "outputs": [
    {
     "data": {
      "text/plain": [
       "Gender  GenderGroup\n",
       "F       1              0.48\n",
       "M       2              0.52\n",
       "dtype: float64"
      ]
     },
     "execution_count": 28,
     "metadata": {},
     "output_type": "execute_result"
    }
   ],
   "source": [
    "#Tính tỷ lệ\n",
    "fre = cart_wheel.groupby([\"Gender\", \"GenderGroup\"]).size()\n",
    "fre/sum(fre)\n",
    "sum(fre)\n",
    "fre.sum()\n",
    "fre/fre.sum()"
   ]
  },
  {
   "cell_type": "code",
   "execution_count": null,
   "metadata": {},
   "outputs": [
    {
     "data": {
      "text/plain": [
       "Gender  Complete\n",
       "F       N            2\n",
       "        Y           10\n",
       "M       N            4\n",
       "        Y            9\n",
       "dtype: int64"
      ]
     },
     "execution_count": 29,
     "metadata": {},
     "output_type": "execute_result"
    }
   ],
   "source": [
    "cart_wheel.groupby([\"Gender\", \"Complete\"]).size()"
   ]
  },
  {
   "cell_type": "markdown",
   "metadata": {},
   "source": [
    "2. Lập bảng tần số chéo (cross table) cho 2 biến định tính: Gender và Complete"
   ]
  },
  {
   "cell_type": "code",
   "execution_count": null,
   "metadata": {},
   "outputs": [
    {
     "data": {
      "text/html": [
       "<div>\n",
       "<style scoped>\n",
       "    .dataframe tbody tr th:only-of-type {\n",
       "        vertical-align: middle;\n",
       "    }\n",
       "\n",
       "    .dataframe tbody tr th {\n",
       "        vertical-align: top;\n",
       "    }\n",
       "\n",
       "    .dataframe thead th {\n",
       "        text-align: right;\n",
       "    }\n",
       "</style>\n",
       "<table border=\"1\" class=\"dataframe\">\n",
       "  <thead>\n",
       "    <tr style=\"text-align: right;\">\n",
       "      <th>Complete</th>\n",
       "      <th>N</th>\n",
       "      <th>Y</th>\n",
       "    </tr>\n",
       "    <tr>\n",
       "      <th>Gender</th>\n",
       "      <th></th>\n",
       "      <th></th>\n",
       "    </tr>\n",
       "  </thead>\n",
       "  <tbody>\n",
       "    <tr>\n",
       "      <th>F</th>\n",
       "      <td>2</td>\n",
       "      <td>10</td>\n",
       "    </tr>\n",
       "    <tr>\n",
       "      <th>M</th>\n",
       "      <td>4</td>\n",
       "      <td>9</td>\n",
       "    </tr>\n",
       "  </tbody>\n",
       "</table>\n",
       "</div>"
      ],
      "text/plain": [
       "Complete  N   Y\n",
       "Gender         \n",
       "F         2  10\n",
       "M         4   9"
      ]
     },
     "execution_count": 30,
     "metadata": {},
     "output_type": "execute_result"
    }
   ],
   "source": [
    "pd.crosstab(cart_wheel[\"Gender\"], cart_wheel[\"Complete\"])\n",
    "pd.crosstab(cart_wheel.Gender, cart_wheel.Complete)"
   ]
  },
  {
   "cell_type": "code",
   "execution_count": null,
   "metadata": {},
   "outputs": [
    {
     "name": "stdout",
     "output_type": "stream",
     "text": [
      "Complete         N         Y\n",
      "Gender                      \n",
      "F         0.333333  0.526316\n",
      "M         0.666667  0.473684\n"
     ]
    },
    {
     "data": {
      "text/plain": [
       "Complete\n",
       "N     6\n",
       "Y    19\n",
       "dtype: int64"
      ]
     },
     "execution_count": 31,
     "metadata": {},
     "output_type": "execute_result"
    }
   ],
   "source": [
    "x = pd.crosstab(cart_wheel.Gender, cart_wheel.Complete)\n",
    "print(x/x.sum())\n",
    "x.sum()"
   ]
  },
  {
   "cell_type": "code",
   "execution_count": null,
   "metadata": {},
   "outputs": [
    {
     "name": "stdout",
     "output_type": "stream",
     "text": [
      "\u001b[1;31mSignature:\u001b[0m\n",
      "\u001b[0mpd\u001b[0m\u001b[1;33m.\u001b[0m\u001b[0mcrosstab\u001b[0m\u001b[1;33m(\u001b[0m\u001b[1;33m\n",
      "\u001b[0m    \u001b[0mindex\u001b[0m\u001b[1;33m,\u001b[0m\u001b[1;33m\n",
      "\u001b[0m    \u001b[0mcolumns\u001b[0m\u001b[1;33m,\u001b[0m\u001b[1;33m\n",
      "\u001b[0m    \u001b[0mvalues\u001b[0m\u001b[1;33m=\u001b[0m\u001b[1;32mNone\u001b[0m\u001b[1;33m,\u001b[0m\u001b[1;33m\n",
      "\u001b[0m    \u001b[0mrownames\u001b[0m\u001b[1;33m=\u001b[0m\u001b[1;32mNone\u001b[0m\u001b[1;33m,\u001b[0m\u001b[1;33m\n",
      "\u001b[0m    \u001b[0mcolnames\u001b[0m\u001b[1;33m=\u001b[0m\u001b[1;32mNone\u001b[0m\u001b[1;33m,\u001b[0m\u001b[1;33m\n",
      "\u001b[0m    \u001b[0maggfunc\u001b[0m\u001b[1;33m=\u001b[0m\u001b[1;32mNone\u001b[0m\u001b[1;33m,\u001b[0m\u001b[1;33m\n",
      "\u001b[0m    \u001b[0mmargins\u001b[0m\u001b[1;33m:\u001b[0m \u001b[1;34m'bool'\u001b[0m \u001b[1;33m=\u001b[0m \u001b[1;32mFalse\u001b[0m\u001b[1;33m,\u001b[0m\u001b[1;33m\n",
      "\u001b[0m    \u001b[0mmargins_name\u001b[0m\u001b[1;33m:\u001b[0m \u001b[1;34m'str'\u001b[0m \u001b[1;33m=\u001b[0m \u001b[1;34m'All'\u001b[0m\u001b[1;33m,\u001b[0m\u001b[1;33m\n",
      "\u001b[0m    \u001b[0mdropna\u001b[0m\u001b[1;33m:\u001b[0m \u001b[1;34m'bool'\u001b[0m \u001b[1;33m=\u001b[0m \u001b[1;32mTrue\u001b[0m\u001b[1;33m,\u001b[0m\u001b[1;33m\n",
      "\u001b[0m    \u001b[0mnormalize\u001b[0m\u001b[1;33m=\u001b[0m\u001b[1;32mFalse\u001b[0m\u001b[1;33m,\u001b[0m\u001b[1;33m\n",
      "\u001b[0m\u001b[1;33m)\u001b[0m \u001b[1;33m->\u001b[0m \u001b[1;34m'DataFrame'\u001b[0m\u001b[1;33m\u001b[0m\u001b[1;33m\u001b[0m\u001b[0m\n",
      "\u001b[1;31mDocstring:\u001b[0m\n",
      "Compute a simple cross tabulation of two (or more) factors.\n",
      "\n",
      "By default, computes a frequency table of the factors unless an\n",
      "array of values and an aggregation function are passed.\n",
      "\n",
      "Parameters\n",
      "----------\n",
      "index : array-like, Series, or list of arrays/Series\n",
      "    Values to group by in the rows.\n",
      "columns : array-like, Series, or list of arrays/Series\n",
      "    Values to group by in the columns.\n",
      "values : array-like, optional\n",
      "    Array of values to aggregate according to the factors.\n",
      "    Requires `aggfunc` be specified.\n",
      "rownames : sequence, default None\n",
      "    If passed, must match number of row arrays passed.\n",
      "colnames : sequence, default None\n",
      "    If passed, must match number of column arrays passed.\n",
      "aggfunc : function, optional\n",
      "    If specified, requires `values` be specified as well.\n",
      "margins : bool, default False\n",
      "    Add row/column margins (subtotals).\n",
      "margins_name : str, default 'All'\n",
      "    Name of the row/column that will contain the totals\n",
      "    when margins is True.\n",
      "dropna : bool, default True\n",
      "    Do not include columns whose entries are all NaN.\n",
      "normalize : bool, {'all', 'index', 'columns'}, or {0,1}, default False\n",
      "    Normalize by dividing all values by the sum of values.\n",
      "\n",
      "    - If passed 'all' or `True`, will normalize over all values.\n",
      "    - If passed 'index' will normalize over each row.\n",
      "    - If passed 'columns' will normalize over each column.\n",
      "    - If margins is `True`, will also normalize margin values.\n",
      "\n",
      "Returns\n",
      "-------\n",
      "DataFrame\n",
      "    Cross tabulation of the data.\n",
      "\n",
      "See Also\n",
      "--------\n",
      "DataFrame.pivot : Reshape data based on column values.\n",
      "pivot_table : Create a pivot table as a DataFrame.\n",
      "\n",
      "Notes\n",
      "-----\n",
      "Any Series passed will have their name attributes used unless row or column\n",
      "names for the cross-tabulation are specified.\n",
      "\n",
      "Any input passed containing Categorical data will have **all** of its\n",
      "categories included in the cross-tabulation, even if the actual data does\n",
      "not contain any instances of a particular category.\n",
      "\n",
      "In the event that there aren't overlapping indexes an empty DataFrame will\n",
      "be returned.\n",
      "\n",
      "Reference :ref:`the user guide <reshaping.crosstabulations>` for more examples.\n",
      "\n",
      "Examples\n",
      "--------\n",
      ">>> a = np.array([\"foo\", \"foo\", \"foo\", \"foo\", \"bar\", \"bar\",\n",
      "...               \"bar\", \"bar\", \"foo\", \"foo\", \"foo\"], dtype=object)\n",
      ">>> b = np.array([\"one\", \"one\", \"one\", \"two\", \"one\", \"one\",\n",
      "...               \"one\", \"two\", \"two\", \"two\", \"one\"], dtype=object)\n",
      ">>> c = np.array([\"dull\", \"dull\", \"shiny\", \"dull\", \"dull\", \"shiny\",\n",
      "...               \"shiny\", \"dull\", \"shiny\", \"shiny\", \"shiny\"],\n",
      "...              dtype=object)\n",
      ">>> pd.crosstab(a, [b, c], rownames=['a'], colnames=['b', 'c'])\n",
      "b   one        two\n",
      "c   dull shiny dull shiny\n",
      "a\n",
      "bar    1     2    1     0\n",
      "foo    2     2    1     2\n",
      "\n",
      "Here 'c' and 'f' are not represented in the data and will not be\n",
      "shown in the output because dropna is True by default. Set\n",
      "dropna=False to preserve categories with no data.\n",
      "\n",
      ">>> foo = pd.Categorical(['a', 'b'], categories=['a', 'b', 'c'])\n",
      ">>> bar = pd.Categorical(['d', 'e'], categories=['d', 'e', 'f'])\n",
      ">>> pd.crosstab(foo, bar)\n",
      "col_0  d  e\n",
      "row_0\n",
      "a      1  0\n",
      "b      0  1\n",
      ">>> pd.crosstab(foo, bar, dropna=False)\n",
      "col_0  d  e  f\n",
      "row_0\n",
      "a      1  0  0\n",
      "b      0  1  0\n",
      "c      0  0  0\n",
      "\u001b[1;31mFile:\u001b[0m      c:\\users\\acer\\appdata\\local\\programs\\python\\python311\\lib\\site-packages\\pandas\\core\\reshape\\pivot.py\n",
      "\u001b[1;31mType:\u001b[0m      function"
     ]
    }
   ],
   "source": [
    "?pd.crosstab"
   ]
  },
  {
   "cell_type": "code",
   "execution_count": null,
   "metadata": {},
   "outputs": [
    {
     "ename": "SyntaxError",
     "evalue": "invalid syntax (<ipython-input-33-8cd05758d7d9>, line 1)",
     "output_type": "error",
     "traceback": [
      "\u001b[1;36m  Cell \u001b[1;32mIn[33], line 1\u001b[1;36m\u001b[0m\n\u001b[1;33m    3. Tính tỷ lệ không hoàn thành trong nam và trong nữ\u001b[0m\n\u001b[1;37m       ^\u001b[0m\n\u001b[1;31mSyntaxError\u001b[0m\u001b[1;31m:\u001b[0m invalid syntax\n"
     ]
    }
   ],
   "source": [
    "3. Tính tỷ lệ không hoàn thành trong nam và trong nữ"
   ]
  },
  {
   "cell_type": "code",
   "execution_count": null,
   "metadata": {},
   "outputs": [
    {
     "data": {
      "text/html": [
       "<div>\n",
       "<style scoped>\n",
       "    .dataframe tbody tr th:only-of-type {\n",
       "        vertical-align: middle;\n",
       "    }\n",
       "\n",
       "    .dataframe tbody tr th {\n",
       "        vertical-align: top;\n",
       "    }\n",
       "\n",
       "    .dataframe thead th {\n",
       "        text-align: right;\n",
       "    }\n",
       "</style>\n",
       "<table border=\"1\" class=\"dataframe\">\n",
       "  <thead>\n",
       "    <tr style=\"text-align: right;\">\n",
       "      <th>Complete</th>\n",
       "      <th>N</th>\n",
       "      <th>Y</th>\n",
       "      <th>All</th>\n",
       "    </tr>\n",
       "    <tr>\n",
       "      <th>Gender</th>\n",
       "      <th></th>\n",
       "      <th></th>\n",
       "      <th></th>\n",
       "    </tr>\n",
       "  </thead>\n",
       "  <tbody>\n",
       "    <tr>\n",
       "      <th>F</th>\n",
       "      <td>2</td>\n",
       "      <td>10</td>\n",
       "      <td>12</td>\n",
       "    </tr>\n",
       "    <tr>\n",
       "      <th>M</th>\n",
       "      <td>4</td>\n",
       "      <td>9</td>\n",
       "      <td>13</td>\n",
       "    </tr>\n",
       "    <tr>\n",
       "      <th>All</th>\n",
       "      <td>6</td>\n",
       "      <td>19</td>\n",
       "      <td>25</td>\n",
       "    </tr>\n",
       "  </tbody>\n",
       "</table>\n",
       "</div>"
      ],
      "text/plain": [
       "Complete  N   Y  All\n",
       "Gender              \n",
       "F         2  10   12\n",
       "M         4   9   13\n",
       "All       6  19   25"
      ]
     },
     "execution_count": 14,
     "metadata": {},
     "output_type": "execute_result"
    }
   ],
   "source": [
    "pd.crosstab(cart_wheel.Gender, cart_wheel.Complete, margins = True)"
   ]
  },
  {
   "cell_type": "code",
   "execution_count": null,
   "metadata": {},
   "outputs": [
    {
     "data": {
      "text/plain": [
       "Gender\n",
       "F      0.166667\n",
       "M      0.307692\n",
       "All    0.240000\n",
       "dtype: float64"
      ]
     },
     "execution_count": 15,
     "metadata": {},
     "output_type": "execute_result"
    }
   ],
   "source": [
    "#Tính tỷ lệ theo dòng\n",
    "x = pd.crosstab(cart_wheel.Gender, cart_wheel.Complete, margins=True)\n",
    "x.N/x.All"
   ]
  },
  {
   "cell_type": "code",
   "execution_count": null,
   "metadata": {},
   "outputs": [
    {
     "data": {
      "text/plain": [
       "Gender\n",
       "F      0.833333\n",
       "M      0.692308\n",
       "All    0.760000\n",
       "dtype: float64"
      ]
     },
     "execution_count": 23,
     "metadata": {},
     "output_type": "execute_result"
    }
   ],
   "source": [
    "x.Y/x.All"
   ]
  },
  {
   "cell_type": "code",
   "execution_count": null,
   "metadata": {},
   "outputs": [
    {
     "data": {
      "text/plain": [
       "Complete\n",
       "N       2\n",
       "Y      10\n",
       "All    12\n",
       "Name: F, dtype: int64"
      ]
     },
     "execution_count": 43,
     "metadata": {},
     "output_type": "execute_result"
    }
   ],
   "source": [
    "x.loc['F']"
   ]
  },
  {
   "cell_type": "code",
   "execution_count": null,
   "metadata": {
    "scrolled": false
   },
   "outputs": [
    {
     "data": {
      "text/plain": [
       "Complete\n",
       "N       6\n",
       "Y      19\n",
       "All    25\n",
       "Name: All, dtype: int64"
      ]
     },
     "execution_count": 44,
     "metadata": {},
     "output_type": "execute_result"
    }
   ],
   "source": [
    "x.loc['All']"
   ]
  },
  {
   "cell_type": "code",
   "execution_count": null,
   "metadata": {},
   "outputs": [
    {
     "data": {
      "text/plain": [
       "Complete\n",
       "N      0.333333\n",
       "Y      0.526316\n",
       "All    0.480000\n",
       "dtype: float64"
      ]
     },
     "execution_count": 45,
     "metadata": {},
     "output_type": "execute_result"
    }
   ],
   "source": [
    "x.loc['F']/x.loc['All']"
   ]
  },
  {
   "cell_type": "code",
   "execution_count": null,
   "metadata": {
    "scrolled": true
   },
   "outputs": [
    {
     "data": {
      "text/plain": [
       "array([ 7,  8, 10,  4,  3,  9,  5,  6,  2], dtype=int64)"
      ]
     },
     "execution_count": 47,
     "metadata": {},
     "output_type": "execute_result"
    }
   ],
   "source": [
    "#Lap bang tan so cho cot Score\n",
    "cart_wheel.Score.unique()"
   ]
  },
  {
   "cell_type": "code",
   "execution_count": null,
   "metadata": {},
   "outputs": [
    {
     "data": {
      "text/plain": [
       "10    4\n",
       "8     4\n",
       "6     3\n",
       "5     3\n",
       "4     3\n",
       "3     3\n",
       "9     2\n",
       "7     2\n",
       "2     1\n",
       "Name: Score, dtype: int64"
      ]
     },
     "execution_count": 48,
     "metadata": {},
     "output_type": "execute_result"
    }
   ],
   "source": [
    "cart_wheel.Score.value_counts()"
   ]
  },
  {
   "cell_type": "markdown",
   "metadata": {},
   "source": [
    "## 4. Phân tổ dữ liệu cột Score\n",
    "Các bước phân tổ dữ liệu\n",
    "- Xác định giá trị nhỏ nhất, lớn nhất\n",
    "- Xác định số tổ (thường 5--15 tổ)\n",
    "- Xác định khoảng cách tổ\n",
    "- Tiến hành phân từng dữ liệu vào các tổ\n",
    "### Chú ý: kiểm tra các điều kiện phân tổ (không thừa/thiếu dữ liệu): tổ đầu chứa min, tổ cuối chứa max"
   ]
  },
  {
   "cell_type": "markdown",
   "id": "22b456f8",
   "metadata": {},
   "source": [
    "?pd.cut"
   ]
  },
  {
   "cell_type": "code",
   "execution_count": null,
   "metadata": {},
   "outputs": [
    {
     "data": {
      "text/plain": [
       "2"
      ]
     },
     "execution_count": 16,
     "metadata": {},
     "output_type": "execute_result"
    }
   ],
   "source": [
    "cart_wheel.Score.min()"
   ]
  },
  {
   "cell_type": "code",
   "execution_count": null,
   "metadata": {},
   "outputs": [
    {
     "data": {
      "text/plain": [
       "10"
      ]
     },
     "execution_count": 17,
     "metadata": {},
     "output_type": "execute_result"
    }
   ],
   "source": [
    "cart_wheel.Score.max()"
   ]
  },
  {
   "cell_type": "code",
   "execution_count": null,
   "metadata": {
    "scrolled": true
   },
   "outputs": [
    {
     "data": {
      "text/plain": [
       "(1.992, 4.0]    7\n",
       "(8.0, 10.0]     6\n",
       "(6.0, 8.0]      6\n",
       "(4.0, 6.0]      6\n",
       "Name: Score, dtype: int64"
      ]
     },
     "execution_count": 18,
     "metadata": {},
     "output_type": "execute_result"
    }
   ],
   "source": [
    "pd.cut(cart_wheel.Score, bins = 4).value_counts() #chia làm 4 tổ"
   ]
  },
  {
   "cell_type": "code",
   "execution_count": null,
   "metadata": {},
   "outputs": [
    {
     "data": {
      "text/plain": [
       "0       (6.0, 8.0]\n",
       "1       (6.0, 8.0]\n",
       "2       (6.0, 8.0]\n",
       "3      (8.0, 10.0]\n",
       "4     (1.992, 4.0]\n",
       "5     (1.992, 4.0]\n",
       "6      (8.0, 10.0]\n",
       "7      (8.0, 10.0]\n",
       "8       (4.0, 6.0]\n",
       "9       (6.0, 8.0]\n",
       "10      (4.0, 6.0]\n",
       "11     (8.0, 10.0]\n",
       "12      (4.0, 6.0]\n",
       "13    (1.992, 4.0]\n",
       "14     (8.0, 10.0]\n",
       "15      (4.0, 6.0]\n",
       "16     (8.0, 10.0]\n",
       "17      (4.0, 6.0]\n",
       "18    (1.992, 4.0]\n",
       "19      (6.0, 8.0]\n",
       "20    (1.992, 4.0]\n",
       "21      (6.0, 8.0]\n",
       "22    (1.992, 4.0]\n",
       "23      (4.0, 6.0]\n",
       "24    (1.992, 4.0]\n",
       "Name: Score, dtype: category\n",
       "Categories (4, interval[float64]): [(1.992, 4.0] < (4.0, 6.0] < (6.0, 8.0] < (8.0, 10.0]]"
      ]
     },
     "execution_count": 31,
     "metadata": {},
     "output_type": "execute_result"
    }
   ],
   "source": [
    "pd.cut(cart_wheel.Score, bins = 4)"
   ]
  },
  {
   "cell_type": "code",
   "execution_count": null,
   "metadata": {},
   "outputs": [
    {
     "data": {
      "text/plain": [
       "0      (6.0, 8.0]\n",
       "1      (6.0, 8.0]\n",
       "2      (6.0, 8.0]\n",
       "3     (8.0, 10.0]\n",
       "4      (2.0, 4.0]\n",
       "5      (2.0, 4.0]\n",
       "6     (8.0, 10.0]\n",
       "7     (8.0, 10.0]\n",
       "8      (4.0, 6.0]\n",
       "9      (6.0, 8.0]\n",
       "10     (4.0, 6.0]\n",
       "11    (8.0, 10.0]\n",
       "12     (4.0, 6.0]\n",
       "13     (2.0, 4.0]\n",
       "14    (8.0, 10.0]\n",
       "15     (4.0, 6.0]\n",
       "16    (8.0, 10.0]\n",
       "17     (4.0, 6.0]\n",
       "18     (2.0, 4.0]\n",
       "19     (6.0, 8.0]\n",
       "20            NaN\n",
       "21     (6.0, 8.0]\n",
       "22     (2.0, 4.0]\n",
       "23     (4.0, 6.0]\n",
       "24     (2.0, 4.0]\n",
       "Name: Score, dtype: category\n",
       "Categories (4, interval[int64]): [(2, 4] < (4, 6] < (6, 8] < (8, 10]]"
      ]
     },
     "execution_count": 19,
     "metadata": {},
     "output_type": "execute_result"
    }
   ],
   "source": [
    "pd.cut(cart_wheel.Score, bins = [2, 4, 6, 8, 10])"
   ]
  },
  {
   "cell_type": "code",
   "execution_count": null,
   "metadata": {},
   "outputs": [
    {
     "data": {
      "text/plain": [
       "(8, 10]    6\n",
       "(6, 8]     6\n",
       "(4, 6]     6\n",
       "(2, 4]     6\n",
       "Name: Score, dtype: int64"
      ]
     },
     "execution_count": 20,
     "metadata": {},
     "output_type": "execute_result"
    }
   ],
   "source": [
    "pd.cut(cart_wheel.Score, bins = [2, 4, 6, 8, 10]).value_counts()\n",
    "#--> To dau thieu 2!!"
   ]
  },
  {
   "cell_type": "code",
   "execution_count": null,
   "metadata": {},
   "outputs": [
    {
     "data": {
      "text/plain": [
       "(1.999, 4.0]    7\n",
       "(8.0, 10.0]     6\n",
       "(6.0, 8.0]      6\n",
       "(4.0, 6.0]      6\n",
       "Name: Score, dtype: int64"
      ]
     },
     "execution_count": 21,
     "metadata": {},
     "output_type": "execute_result"
    }
   ],
   "source": [
    "pd.cut(cart_wheel.Score, bins = [2, 4, 6, 8, 10], include_lowest=True).value_counts() # them include_lowest=True"
   ]
  },
  {
   "cell_type": "markdown",
   "metadata": {},
   "source": [
    "# Bài 6"
   ]
  },
  {
   "cell_type": "code",
   "execution_count": null,
   "metadata": {},
   "outputs": [],
   "source": [
    "data = pd.read_csv('./HocSinh.csv')"
   ]
  },
  {
   "cell_type": "code",
   "execution_count": null,
   "metadata": {},
   "outputs": [
    {
     "data": {
      "text/html": [
       "<div>\n",
       "<style scoped>\n",
       "    .dataframe tbody tr th:only-of-type {\n",
       "        vertical-align: middle;\n",
       "    }\n",
       "\n",
       "    .dataframe tbody tr th {\n",
       "        vertical-align: top;\n",
       "    }\n",
       "\n",
       "    .dataframe thead th {\n",
       "        text-align: right;\n",
       "    }\n",
       "</style>\n",
       "<table border=\"1\" class=\"dataframe\">\n",
       "  <thead>\n",
       "    <tr style=\"text-align: right;\">\n",
       "      <th></th>\n",
       "      <th>Unnamed: 0</th>\n",
       "      <th>GioiTinh</th>\n",
       "      <th>Lop</th>\n",
       "      <th>Tuoi</th>\n",
       "      <th>NoiO</th>\n",
       "      <th>HocLuc</th>\n",
       "      <th>TheThao</th>\n",
       "      <th>HinhThuc</th>\n",
       "    </tr>\n",
       "  </thead>\n",
       "  <tbody>\n",
       "    <tr>\n",
       "      <th>0</th>\n",
       "      <td>1</td>\n",
       "      <td>Nam</td>\n",
       "      <td>5</td>\n",
       "      <td>11</td>\n",
       "      <td>NgoaiO</td>\n",
       "      <td>1</td>\n",
       "      <td>2</td>\n",
       "      <td>4</td>\n",
       "    </tr>\n",
       "    <tr>\n",
       "      <th>1</th>\n",
       "      <td>2</td>\n",
       "      <td>Nam</td>\n",
       "      <td>5</td>\n",
       "      <td>10</td>\n",
       "      <td>NgoaiO</td>\n",
       "      <td>2</td>\n",
       "      <td>1</td>\n",
       "      <td>4</td>\n",
       "    </tr>\n",
       "    <tr>\n",
       "      <th>2</th>\n",
       "      <td>3</td>\n",
       "      <td>Nu</td>\n",
       "      <td>5</td>\n",
       "      <td>11</td>\n",
       "      <td>NgoaiO</td>\n",
       "      <td>4</td>\n",
       "      <td>3</td>\n",
       "      <td>1</td>\n",
       "    </tr>\n",
       "    <tr>\n",
       "      <th>3</th>\n",
       "      <td>4</td>\n",
       "      <td>Nu</td>\n",
       "      <td>5</td>\n",
       "      <td>11</td>\n",
       "      <td>NgoaiO</td>\n",
       "      <td>2</td>\n",
       "      <td>3</td>\n",
       "      <td>4</td>\n",
       "    </tr>\n",
       "    <tr>\n",
       "      <th>4</th>\n",
       "      <td>5</td>\n",
       "      <td>Nu</td>\n",
       "      <td>5</td>\n",
       "      <td>10</td>\n",
       "      <td>NgoaiO</td>\n",
       "      <td>4</td>\n",
       "      <td>2</td>\n",
       "      <td>1</td>\n",
       "    </tr>\n",
       "    <tr>\n",
       "      <th>...</th>\n",
       "      <td>...</td>\n",
       "      <td>...</td>\n",
       "      <td>...</td>\n",
       "      <td>...</td>\n",
       "      <td>...</td>\n",
       "      <td>...</td>\n",
       "      <td>...</td>\n",
       "      <td>...</td>\n",
       "    </tr>\n",
       "    <tr>\n",
       "      <th>470</th>\n",
       "      <td>471</td>\n",
       "      <td>Nam</td>\n",
       "      <td>6</td>\n",
       "      <td>11</td>\n",
       "      <td>NoiThanh</td>\n",
       "      <td>4</td>\n",
       "      <td>1</td>\n",
       "      <td>2</td>\n",
       "    </tr>\n",
       "    <tr>\n",
       "      <th>471</th>\n",
       "      <td>472</td>\n",
       "      <td>Nam</td>\n",
       "      <td>6</td>\n",
       "      <td>11</td>\n",
       "      <td>NoiThanh</td>\n",
       "      <td>4</td>\n",
       "      <td>1</td>\n",
       "      <td>2</td>\n",
       "    </tr>\n",
       "    <tr>\n",
       "      <th>472</th>\n",
       "      <td>473</td>\n",
       "      <td>Nam</td>\n",
       "      <td>6</td>\n",
       "      <td>11</td>\n",
       "      <td>NoiThanh</td>\n",
       "      <td>4</td>\n",
       "      <td>2</td>\n",
       "      <td>1</td>\n",
       "    </tr>\n",
       "    <tr>\n",
       "      <th>473</th>\n",
       "      <td>474</td>\n",
       "      <td>Nam</td>\n",
       "      <td>6</td>\n",
       "      <td>11</td>\n",
       "      <td>NoiThanh</td>\n",
       "      <td>4</td>\n",
       "      <td>1</td>\n",
       "      <td>3</td>\n",
       "    </tr>\n",
       "    <tr>\n",
       "      <th>474</th>\n",
       "      <td>475</td>\n",
       "      <td>Nam</td>\n",
       "      <td>6</td>\n",
       "      <td>11</td>\n",
       "      <td>NoiThanh</td>\n",
       "      <td>4</td>\n",
       "      <td>1</td>\n",
       "      <td>2</td>\n",
       "    </tr>\n",
       "  </tbody>\n",
       "</table>\n",
       "<p>475 rows × 8 columns</p>\n",
       "</div>"
      ],
      "text/plain": [
       "     Unnamed: 0 GioiTinh  Lop  Tuoi      NoiO  HocLuc  TheThao  HinhThuc\n",
       "0             1      Nam    5    11    NgoaiO       1        2         4\n",
       "1             2      Nam    5    10    NgoaiO       2        1         4\n",
       "2             3       Nu    5    11    NgoaiO       4        3         1\n",
       "3             4       Nu    5    11    NgoaiO       2        3         4\n",
       "4             5       Nu    5    10    NgoaiO       4        2         1\n",
       "..          ...      ...  ...   ...       ...     ...      ...       ...\n",
       "470         471      Nam    6    11  NoiThanh       4        1         2\n",
       "471         472      Nam    6    11  NoiThanh       4        1         2\n",
       "472         473      Nam    6    11  NoiThanh       4        2         1\n",
       "473         474      Nam    6    11  NoiThanh       4        1         3\n",
       "474         475      Nam    6    11  NoiThanh       4        1         2\n",
       "\n",
       "[475 rows x 8 columns]"
      ]
     },
     "execution_count": 23,
     "metadata": {},
     "output_type": "execute_result"
    }
   ],
   "source": [
    "data"
   ]
  },
  {
   "cell_type": "markdown",
   "metadata": {},
   "source": [
    "### a. Cho biết dữ liệu trong từng cột được đo bằng thang đo nào?\n",
    "- Thang đo định tính\n",
    "-- Thang đo định danh (nominal): chỉ phân loại, không có thứ tự\n",
    "-- Thang đo thứ bậc (ordinal): so sánh được\n",
    "- Thang đo định lượng\n",
    "-- rời rạc\n",
    "-- liên tục\n",
    "Định tính: GioiTinh, NoiO (định danh)\n",
    "Định lượng: Lop, Tuoi, HocLuc, TheThao, HinhThuc (rời rạc)"
   ]
  },
  {
   "cell_type": "code",
   "execution_count": null,
   "metadata": {},
   "outputs": [
    {
     "data": {
      "text/plain": [
       "Unnamed: 0     int64\n",
       "GioiTinh      object\n",
       "Lop            int64\n",
       "Tuoi           int64\n",
       "NoiO          object\n",
       "HocLuc         int64\n",
       "TheThao        int64\n",
       "HinhThuc       int64\n",
       "dtype: object"
      ]
     },
     "execution_count": 25,
     "metadata": {},
     "output_type": "execute_result"
    }
   ],
   "source": [
    "data.dtypes"
   ]
  },
  {
   "cell_type": "markdown",
   "metadata": {},
   "source": [
    "### b. Cho biết tập dữ liệu này có bao nhiêu cột, bao nhiêu dòng?"
   ]
  },
  {
   "cell_type": "code",
   "execution_count": null,
   "metadata": {},
   "outputs": [
    {
     "name": "stdout",
     "output_type": "stream",
     "text": [
      "Rowns in data: 475\n",
      "Columns in data: 8\n"
     ]
    }
   ],
   "source": [
    "print('Rowns in data:', data.shape[0])\n",
    "print('Columns in data:', data.shape[1])"
   ]
  },
  {
   "cell_type": "markdown",
   "metadata": {},
   "source": [
    "### c. Lấy ra dữ liệu ở cột thứ 3 (Tuoi)."
   ]
  },
  {
   "cell_type": "code",
   "execution_count": null,
   "metadata": {},
   "outputs": [
    {
     "data": {
      "text/plain": [
       "0      11\n",
       "1      10\n",
       "2      11\n",
       "3      11\n",
       "4      10\n",
       "       ..\n",
       "470    11\n",
       "471    11\n",
       "472    11\n",
       "473    11\n",
       "474    11\n",
       "Name: Tuoi, Length: 475, dtype: int64"
      ]
     },
     "execution_count": 27,
     "metadata": {},
     "output_type": "execute_result"
    }
   ],
   "source": [
    "data['Tuoi']"
   ]
  },
  {
   "cell_type": "markdown",
   "metadata": {},
   "source": [
    "### d. Lấy ra toàn bộ dữ liệu ở dòng thứ 10."
   ]
  },
  {
   "cell_type": "code",
   "execution_count": null,
   "metadata": {},
   "outputs": [
    {
     "data": {
      "text/html": [
       "<div>\n",
       "<style scoped>\n",
       "    .dataframe tbody tr th:only-of-type {\n",
       "        vertical-align: middle;\n",
       "    }\n",
       "\n",
       "    .dataframe tbody tr th {\n",
       "        vertical-align: top;\n",
       "    }\n",
       "\n",
       "    .dataframe thead th {\n",
       "        text-align: right;\n",
       "    }\n",
       "</style>\n",
       "<table border=\"1\" class=\"dataframe\">\n",
       "  <thead>\n",
       "    <tr style=\"text-align: right;\">\n",
       "      <th></th>\n",
       "      <th>Unnamed: 0</th>\n",
       "      <th>GioiTinh</th>\n",
       "      <th>Lop</th>\n",
       "      <th>Tuoi</th>\n",
       "      <th>NoiO</th>\n",
       "      <th>HocLuc</th>\n",
       "      <th>TheThao</th>\n",
       "      <th>HinhThuc</th>\n",
       "    </tr>\n",
       "  </thead>\n",
       "  <tbody>\n",
       "    <tr>\n",
       "      <th>9</th>\n",
       "      <td>10</td>\n",
       "      <td>Nu</td>\n",
       "      <td>5</td>\n",
       "      <td>10</td>\n",
       "      <td>NgoaiO</td>\n",
       "      <td>4</td>\n",
       "      <td>3</td>\n",
       "      <td>2</td>\n",
       "    </tr>\n",
       "  </tbody>\n",
       "</table>\n",
       "</div>"
      ],
      "text/plain": [
       "   Unnamed: 0 GioiTinh  Lop  Tuoi    NoiO  HocLuc  TheThao  HinhThuc\n",
       "9          10       Nu    5    10  NgoaiO       4        3         2"
      ]
     },
     "execution_count": 49,
     "metadata": {},
     "output_type": "execute_result"
    }
   ],
   "source": [
    "data.iloc[[9]]\n"
   ]
  },
  {
   "cell_type": "code",
   "execution_count": null,
   "metadata": {},
   "outputs": [
    {
     "data": {
      "text/plain": [
       "Unnamed: 0        10\n",
       "GioiTinh          Nu\n",
       "Lop                5\n",
       "Tuoi              10\n",
       "NoiO          NgoaiO\n",
       "HocLuc             4\n",
       "TheThao            3\n",
       "HinhThuc           2\n",
       "Name: 9, dtype: object"
      ]
     },
     "execution_count": 50,
     "metadata": {},
     "output_type": "execute_result"
    }
   ],
   "source": [
    "data.iloc[9, :]"
   ]
  },
  {
   "cell_type": "markdown",
   "metadata": {},
   "source": [
    "### e. Tính số học sinh nữ, nam."
   ]
  },
  {
   "cell_type": "code",
   "execution_count": null,
   "metadata": {},
   "outputs": [
    {
     "data": {
      "text/html": [
       "<div>\n",
       "<style scoped>\n",
       "    .dataframe tbody tr th:only-of-type {\n",
       "        vertical-align: middle;\n",
       "    }\n",
       "\n",
       "    .dataframe tbody tr th {\n",
       "        vertical-align: top;\n",
       "    }\n",
       "\n",
       "    .dataframe thead th {\n",
       "        text-align: right;\n",
       "    }\n",
       "</style>\n",
       "<table border=\"1\" class=\"dataframe\">\n",
       "  <thead>\n",
       "    <tr style=\"text-align: right;\">\n",
       "      <th></th>\n",
       "      <th>GioiTinh</th>\n",
       "    </tr>\n",
       "  </thead>\n",
       "  <tbody>\n",
       "    <tr>\n",
       "      <th>Nu</th>\n",
       "      <td>248</td>\n",
       "    </tr>\n",
       "    <tr>\n",
       "      <th>Nam</th>\n",
       "      <td>227</td>\n",
       "    </tr>\n",
       "  </tbody>\n",
       "</table>\n",
       "</div>"
      ],
      "text/plain": [
       "     GioiTinh\n",
       "Nu        248\n",
       "Nam       227"
      ]
     },
     "execution_count": 51,
     "metadata": {},
     "output_type": "execute_result"
    }
   ],
   "source": [
    "data['GioiTinh'].value_counts().to_frame()"
   ]
  },
  {
   "cell_type": "markdown",
   "metadata": {},
   "source": [
    "### f. Tính tỷ lệ học sinh có mức độ yêu thích thể thao là 4. Tính tỷ lệ này trong nhóm học sinh nam, trong nhóm học sinh nữ."
   ]
  },
  {
   "cell_type": "code",
   "execution_count": null,
   "metadata": {},
   "outputs": [
    {
     "name": "stdout",
     "output_type": "stream",
     "text": [
      "Tỉ lệ học sinh có mức độ yêu thích thể thao là 4: 0.0968421052631579\n"
     ]
    }
   ],
   "source": [
    "tile = len(data[data['TheThao'] == 4])/len(data['TheThao'])\n",
    "print('Tỉ lệ học sinh có mức độ yêu thích thể thao là 4:', tile)"
   ]
  },
  {
   "cell_type": "code",
   "execution_count": null,
   "metadata": {},
   "outputs": [
    {
     "name": "stdout",
     "output_type": "stream",
     "text": [
      "Tỉ lệ học sinh có mức độ yêu thích thể thao là 4 là nam: 0.039647577092511016\n",
      "Tỉ lệ học sinh có mức độ yêu thích thể thao là 4 là nữ: 0.14919354838709678\n"
     ]
    }
   ],
   "source": [
    "tmp_nam = len(data[data['GioiTinh'] == 'Nam'])\n",
    "tmp_nu= len(data[data['GioiTinh'] == 'Nu'])\n",
    "\n",
    "hs_nam = len(data[(data['TheThao'] == 4) & (data['GioiTinh'] == 'Nam')])\n",
    "hs_nu = len(data[(data['TheThao'] == 4) & (data['GioiTinh'] == 'Nu')])\n",
    "\n",
    "print('Tỉ lệ học sinh có mức độ yêu thích thể thao là 4 là nam:', hs_nam/tmp_nam)\n",
    "print('Tỉ lệ học sinh có mức độ yêu thích thể thao là 4 là nữ:', hs_nu/tmp_nu)"
   ]
  },
  {
   "cell_type": "code",
   "execution_count": null,
   "metadata": {},
   "outputs": [
    {
     "data": {
      "text/html": [
       "<div>\n",
       "<style scoped>\n",
       "    .dataframe tbody tr th:only-of-type {\n",
       "        vertical-align: middle;\n",
       "    }\n",
       "\n",
       "    .dataframe tbody tr th {\n",
       "        vertical-align: top;\n",
       "    }\n",
       "\n",
       "    .dataframe thead th {\n",
       "        text-align: right;\n",
       "    }\n",
       "</style>\n",
       "<table border=\"1\" class=\"dataframe\">\n",
       "  <thead>\n",
       "    <tr style=\"text-align: right;\">\n",
       "      <th>TheThao</th>\n",
       "      <th>1</th>\n",
       "      <th>2</th>\n",
       "      <th>3</th>\n",
       "      <th>4</th>\n",
       "    </tr>\n",
       "    <tr>\n",
       "      <th>GioiTinh</th>\n",
       "      <th></th>\n",
       "      <th></th>\n",
       "      <th></th>\n",
       "      <th></th>\n",
       "    </tr>\n",
       "  </thead>\n",
       "  <tbody>\n",
       "    <tr>\n",
       "      <th>Nam</th>\n",
       "      <td>127</td>\n",
       "      <td>60</td>\n",
       "      <td>31</td>\n",
       "      <td>9</td>\n",
       "    </tr>\n",
       "    <tr>\n",
       "      <th>Nu</th>\n",
       "      <td>38</td>\n",
       "      <td>93</td>\n",
       "      <td>80</td>\n",
       "      <td>37</td>\n",
       "    </tr>\n",
       "  </tbody>\n",
       "</table>\n",
       "</div>"
      ],
      "text/plain": [
       "TheThao     1   2   3   4\n",
       "GioiTinh                 \n",
       "Nam       127  60  31   9\n",
       "Nu         38  93  80  37"
      ]
     },
     "execution_count": 52,
     "metadata": {},
     "output_type": "execute_result"
    }
   ],
   "source": [
    "pd.crosstab(data.GioiTinh, data.TheThao)"
   ]
  },
  {
   "cell_type": "code",
   "execution_count": null,
   "metadata": {},
   "outputs": [
    {
     "data": {
      "text/html": [
       "<div>\n",
       "<style scoped>\n",
       "    .dataframe tbody tr th:only-of-type {\n",
       "        vertical-align: middle;\n",
       "    }\n",
       "\n",
       "    .dataframe tbody tr th {\n",
       "        vertical-align: top;\n",
       "    }\n",
       "\n",
       "    .dataframe thead th {\n",
       "        text-align: right;\n",
       "    }\n",
       "</style>\n",
       "<table border=\"1\" class=\"dataframe\">\n",
       "  <thead>\n",
       "    <tr style=\"text-align: right;\">\n",
       "      <th>TheThao</th>\n",
       "      <th>1</th>\n",
       "      <th>2</th>\n",
       "      <th>3</th>\n",
       "      <th>4</th>\n",
       "      <th>All</th>\n",
       "    </tr>\n",
       "    <tr>\n",
       "      <th>GioiTinh</th>\n",
       "      <th></th>\n",
       "      <th></th>\n",
       "      <th></th>\n",
       "      <th></th>\n",
       "      <th></th>\n",
       "    </tr>\n",
       "  </thead>\n",
       "  <tbody>\n",
       "    <tr>\n",
       "      <th>Nam</th>\n",
       "      <td>127</td>\n",
       "      <td>60</td>\n",
       "      <td>31</td>\n",
       "      <td>9</td>\n",
       "      <td>227</td>\n",
       "    </tr>\n",
       "    <tr>\n",
       "      <th>Nu</th>\n",
       "      <td>38</td>\n",
       "      <td>93</td>\n",
       "      <td>80</td>\n",
       "      <td>37</td>\n",
       "      <td>248</td>\n",
       "    </tr>\n",
       "    <tr>\n",
       "      <th>All</th>\n",
       "      <td>165</td>\n",
       "      <td>153</td>\n",
       "      <td>111</td>\n",
       "      <td>46</td>\n",
       "      <td>475</td>\n",
       "    </tr>\n",
       "  </tbody>\n",
       "</table>\n",
       "</div>"
      ],
      "text/plain": [
       "TheThao     1    2    3   4  All\n",
       "GioiTinh                        \n",
       "Nam       127   60   31   9  227\n",
       "Nu         38   93   80  37  248\n",
       "All       165  153  111  46  475"
      ]
     },
     "execution_count": 59,
     "metadata": {},
     "output_type": "execute_result"
    }
   ],
   "source": [
    "ts = pd.crosstab(data.GioiTinh, data.TheThao, margins=True)\n",
    "ts"
   ]
  },
  {
   "cell_type": "code",
   "execution_count": null,
   "metadata": {},
   "outputs": [
    {
     "data": {
      "text/plain": [
       "0.039647577092511016"
      ]
     },
     "execution_count": 61,
     "metadata": {},
     "output_type": "execute_result"
    }
   ],
   "source": [
    "ts.iloc[0,3]/ts.iloc[0,4]"
   ]
  },
  {
   "cell_type": "code",
   "execution_count": null,
   "metadata": {},
   "outputs": [
    {
     "name": "stdout",
     "output_type": "stream",
     "text": [
      "Requirement already satisfied: pandas in c:\\programdata\\anaconda3\\lib\\site-packages (1.1.3)\n",
      "Requirement already satisfied: python-dateutil>=2.7.3 in c:\\programdata\\anaconda3\\lib\\site-packages (from pandas) (2.8.1)\n",
      "Requirement already satisfied: pytz>=2017.2 in c:\\programdata\\anaconda3\\lib\\site-packages (from pandas) (2020.1)\n",
      "Requirement already satisfied: numpy>=1.15.4 in c:\\programdata\\anaconda3\\lib\\site-packages (from pandas) (1.19.2)\n",
      "Requirement already satisfied: six>=1.5 in c:\\programdata\\anaconda3\\lib\\site-packages (from python-dateutil>=2.7.3->pandas) (1.15.0)\n"
     ]
    }
   ],
   "source": [
    "!pip install pandas"
   ]
  },
  {
   "cell_type": "code",
   "execution_count": null,
   "metadata": {},
   "outputs": [
    {
     "name": "stdout",
     "output_type": "stream",
     "text": [
      "[WinError 2] The system cannot find the file specified: 'D:\\\\XSTK-MA239\\\\K2N2\\\\Du_lieu # cd change directory'\n",
      "D:\\XSTK-MA239\\K2N2\n"
     ]
    }
   ],
   "source": [
    "cd D:\\XSTK-MA239\\K2N2\\Du_lieu # cd change directory"
   ]
  },
  {
   "cell_type": "code",
   "execution_count": null,
   "metadata": {
    "scrolled": true
   },
   "outputs": [
    {
     "data": {
      "text/plain": [
       "'D:\\\\XSTK-MA239\\\\K2N2'"
      ]
     },
     "execution_count": 10,
     "metadata": {},
     "output_type": "execute_result"
    }
   ],
   "source": [
    "pwd # print working directory"
   ]
  },
  {
   "cell_type": "code",
   "execution_count": null,
   "metadata": {},
   "outputs": [
    {
     "name": "stdout",
     "output_type": "stream",
     "text": [
      "D:\\XSTK-MA239\\K2N2\\Du_lieu\n"
     ]
    }
   ],
   "source": [
    "cd ./Du_lieu"
   ]
  },
  {
   "cell_type": "code",
   "execution_count": null,
   "metadata": {},
   "outputs": [],
   "source": [
    "import pandas as pd"
   ]
  },
  {
   "cell_type": "code",
   "execution_count": null,
   "metadata": {},
   "outputs": [],
   "source": [
    "# Doc file.csv \n",
    "df = pd.read_csv(\"Cartwheeldata.csv\")"
   ]
  },
  {
   "cell_type": "code",
   "execution_count": null,
   "metadata": {},
   "outputs": [
    {
     "data": {
      "text/html": [
       "<div>\n",
       "<style scoped>\n",
       "    .dataframe tbody tr th:only-of-type {\n",
       "        vertical-align: middle;\n",
       "    }\n",
       "\n",
       "    .dataframe tbody tr th {\n",
       "        vertical-align: top;\n",
       "    }\n",
       "\n",
       "    .dataframe thead th {\n",
       "        text-align: right;\n",
       "    }\n",
       "</style>\n",
       "<table border=\"1\" class=\"dataframe\">\n",
       "  <thead>\n",
       "    <tr style=\"text-align: right;\">\n",
       "      <th></th>\n",
       "      <th>ID</th>\n",
       "      <th>Age</th>\n",
       "      <th>Gender</th>\n",
       "      <th>GenderGroup</th>\n",
       "      <th>Glasses</th>\n",
       "      <th>GlassesGroup</th>\n",
       "      <th>Height</th>\n",
       "      <th>Wingspan</th>\n",
       "      <th>CWDistance</th>\n",
       "      <th>Complete</th>\n",
       "      <th>CompleteGroup</th>\n",
       "      <th>Score</th>\n",
       "    </tr>\n",
       "  </thead>\n",
       "  <tbody>\n",
       "    <tr>\n",
       "      <th>0</th>\n",
       "      <td>1</td>\n",
       "      <td>56</td>\n",
       "      <td>F</td>\n",
       "      <td>1</td>\n",
       "      <td>Y</td>\n",
       "      <td>1</td>\n",
       "      <td>62.0</td>\n",
       "      <td>61.0</td>\n",
       "      <td>79</td>\n",
       "      <td>Y</td>\n",
       "      <td>1</td>\n",
       "      <td>7</td>\n",
       "    </tr>\n",
       "    <tr>\n",
       "      <th>1</th>\n",
       "      <td>2</td>\n",
       "      <td>26</td>\n",
       "      <td>F</td>\n",
       "      <td>1</td>\n",
       "      <td>Y</td>\n",
       "      <td>1</td>\n",
       "      <td>62.0</td>\n",
       "      <td>60.0</td>\n",
       "      <td>70</td>\n",
       "      <td>Y</td>\n",
       "      <td>1</td>\n",
       "      <td>8</td>\n",
       "    </tr>\n",
       "    <tr>\n",
       "      <th>2</th>\n",
       "      <td>3</td>\n",
       "      <td>33</td>\n",
       "      <td>F</td>\n",
       "      <td>1</td>\n",
       "      <td>Y</td>\n",
       "      <td>1</td>\n",
       "      <td>66.0</td>\n",
       "      <td>64.0</td>\n",
       "      <td>85</td>\n",
       "      <td>Y</td>\n",
       "      <td>1</td>\n",
       "      <td>7</td>\n",
       "    </tr>\n",
       "    <tr>\n",
       "      <th>3</th>\n",
       "      <td>4</td>\n",
       "      <td>39</td>\n",
       "      <td>F</td>\n",
       "      <td>1</td>\n",
       "      <td>N</td>\n",
       "      <td>0</td>\n",
       "      <td>64.0</td>\n",
       "      <td>63.0</td>\n",
       "      <td>87</td>\n",
       "      <td>Y</td>\n",
       "      <td>1</td>\n",
       "      <td>10</td>\n",
       "    </tr>\n",
       "    <tr>\n",
       "      <th>4</th>\n",
       "      <td>5</td>\n",
       "      <td>27</td>\n",
       "      <td>M</td>\n",
       "      <td>2</td>\n",
       "      <td>N</td>\n",
       "      <td>0</td>\n",
       "      <td>73.0</td>\n",
       "      <td>75.0</td>\n",
       "      <td>72</td>\n",
       "      <td>N</td>\n",
       "      <td>0</td>\n",
       "      <td>4</td>\n",
       "    </tr>\n",
       "  </tbody>\n",
       "</table>\n",
       "</div>"
      ],
      "text/plain": [
       "   ID  Age Gender  GenderGroup Glasses  GlassesGroup  Height  Wingspan  \\\n",
       "0   1   56      F            1       Y             1    62.0      61.0   \n",
       "1   2   26      F            1       Y             1    62.0      60.0   \n",
       "2   3   33      F            1       Y             1    66.0      64.0   \n",
       "3   4   39      F            1       N             0    64.0      63.0   \n",
       "4   5   27      M            2       N             0    73.0      75.0   \n",
       "\n",
       "   CWDistance Complete  CompleteGroup  Score  \n",
       "0          79        Y              1      7  \n",
       "1          70        Y              1      8  \n",
       "2          85        Y              1      7  \n",
       "3          87        Y              1     10  \n",
       "4          72        N              0      4  "
      ]
     },
     "execution_count": 14,
     "metadata": {},
     "output_type": "execute_result"
    }
   ],
   "source": [
    "df.head()"
   ]
  },
  {
   "cell_type": "code",
   "execution_count": null,
   "metadata": {},
   "outputs": [
    {
     "data": {
      "text/plain": [
       "Index(['ID', 'Age', 'Gender', 'GenderGroup', 'Glasses', 'GlassesGroup',\n",
       "       'Height', 'Wingspan', 'CWDistance', 'Complete', 'CompleteGroup',\n",
       "       'Score'],\n",
       "      dtype='object')"
      ]
     },
     "execution_count": 15,
     "metadata": {},
     "output_type": "execute_result"
    }
   ],
   "source": [
    "df.columns"
   ]
  },
  {
   "cell_type": "code",
   "execution_count": null,
   "metadata": {},
   "outputs": [
    {
     "data": {
      "text/plain": [
       "(25, 12)"
      ]
     },
     "execution_count": 16,
     "metadata": {},
     "output_type": "execute_result"
    }
   ],
   "source": [
    "df.shape"
   ]
  }
 ],
 "metadata": {
  "kernelspec": {
   "display_name": "Python 3",
   "language": "python",
   "name": "python3"
  },
  "language_info": {
   "codemirror_mode": {
    "name": "ipython",
    "version": 3
   },
   "file_extension": ".py",
   "mimetype": "text/x-python",
   "name": "python",
   "nbconvert_exporter": "python",
   "pygments_lexer": "ipython3",
   "version": "3.11.1"
  },
  "vscode": {
   "interpreter": {
    "hash": "6491bbd3c7861498ceca5f810ff495ca48eaaad8857aa8ae48a42dff31e5d8e0"
   }
  }
 },
 "nbformat": 4,
 "nbformat_minor": 5
}
